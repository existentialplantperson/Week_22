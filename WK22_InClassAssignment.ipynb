{
 "cells": [
  {
   "cell_type": "markdown",
   "id": "191cd851",
   "metadata": {},
   "source": [
    "### Week 22 In-Class Assignment\n",
    "#### Angela Spencer - February 23, 2022"
   ]
  },
  {
   "cell_type": "markdown",
   "id": "8e1e4e4c",
   "metadata": {},
   "source": [
    "#### 1. Use Splinter and/or Beautiful Soup to scrape mercadolibre.com.mx or soundcloud.com or tripadvisor.com. You must programmatically click a link from the front page to go to another page of interest to you and then select at least 5 items from that page. The 5 items must be stored in a data structure that makes sense (dictionary, list, etc)."
   ]
  },
  {
   "cell_type": "code",
   "execution_count": 1,
   "id": "f1d49a7b",
   "metadata": {},
   "outputs": [],
   "source": [
    "from bs4 import BeautifulSoup as bs\n",
    "import requests\n",
    "import pandas as pd\n",
    "from splinter import Browser\n",
    "from webdriver_manager.chrome import ChromeDriverManager\n",
    "import time"
   ]
  },
  {
   "cell_type": "code",
   "execution_count": 56,
   "id": "3b5050f1",
   "metadata": {},
   "outputs": [
    {
     "name": "stderr",
     "output_type": "stream",
     "text": [
      "\n",
      "\n",
      "====== WebDriver manager ======\n",
      "Current google-chrome version is 98.0.4758\n",
      "Get LATEST chromedriver version for 98.0.4758 google-chrome\n",
      "Trying to download new driver from https://chromedriver.storage.googleapis.com/98.0.4758.102/chromedriver_win32.zip\n",
      "Driver has been saved in cache [C:\\Users\\aspen\\.wdm\\drivers\\chromedriver\\win32\\98.0.4758.102]\n"
     ]
    }
   ],
   "source": [
    "executable_path = {'executable_path':ChromeDriverManager().install()}\n",
    "\n",
    "browser = Browser('chrome', **executable_path, headless=False)\n"
   ]
  },
  {
   "cell_type": "code",
   "execution_count": 93,
   "id": "7ded8171",
   "metadata": {},
   "outputs": [
    {
     "name": "stdout",
     "output_type": "stream",
     "text": [
      "Top 50: All music genres\n",
      "/discover/sets/charts-top:all-music:us\n",
      "https://i1.sndcdn.com/artworks-3MZHy2YEhMd3-0-t200x200.jpg\n",
      "Top 50: Hip-hop & Rap\n",
      "/discover/sets/charts-top:hiphoprap:us\n",
      "https://i1.sndcdn.com/artworks-3MZHy2YEhMd3-0-t200x200.jpg\n",
      "Top 50: Pop\n",
      "/discover/sets/charts-top:pop:us\n",
      "https://i1.sndcdn.com/artworks-teTQbwTgfaES-0-t200x200.jpg\n",
      "Top 50: R&B & Soul\n",
      "/discover/sets/charts-top:rbsoul:us\n",
      "https://i1.sndcdn.com/artworks-9ixbhhfjgJ9wWsGI-TlItkQ-t200x200.jpg\n",
      "Top 50: Global Beats\n",
      "/discover/sets/charts-top:world:us\n",
      "https://i1.sndcdn.com/artworks-000350395503-2duk8l-t200x200.jpg\n"
     ]
    }
   ],
   "source": [
    "#direct browser to home page\n",
    "url = 'https://soundcloud.com/'\n",
    "browser.visit(url)\n",
    "\n",
    "#direct browser to click on link containing 'Explore' with a wait period before continuing\n",
    "browser.links.find_by_partial_text('Explore').click()\n",
    "time.sleep(1)\n",
    "\n",
    "#parse html from current url\n",
    "soup = bs(browser.html, 'html.parser')\n",
    "\n",
    "#extract all div labels with specified class to access each music chart tile\n",
    "all_divs = soup.find_all('div', class_='playableTile__artwork')\n",
    "\n",
    "#for each div, extract chart, link, and image info\n",
    "soundcloud_list = []\n",
    "for div in all_divs[:5]:\n",
    "    try:\n",
    "        chart = div.find('span')['aria-label']\n",
    "        print(chart)\n",
    "        \n",
    "        link = div.find('a')['href']\n",
    "        print(link)\n",
    "        \n",
    "        image = re.search('http.*jpg', div.find('span')['style']).group(0)\n",
    "        print(image)\n",
    "        \n",
    "# add info to a dictionary and append dictionary to empty list        \n",
    "        chart_dict = {'chart_name':chart,\n",
    "                      'reference_url':link, \n",
    "                      'image_link':image}\n",
    "\n",
    "        soundcloud_list.append(chart_dict)\n",
    "        \n",
    "    except Exception as e:\n",
    "        print(e)"
   ]
  },
  {
   "cell_type": "code",
   "execution_count": 94,
   "id": "0defb3ff",
   "metadata": {},
   "outputs": [
    {
     "data": {
      "text/html": [
       "<div>\n",
       "<style scoped>\n",
       "    .dataframe tbody tr th:only-of-type {\n",
       "        vertical-align: middle;\n",
       "    }\n",
       "\n",
       "    .dataframe tbody tr th {\n",
       "        vertical-align: top;\n",
       "    }\n",
       "\n",
       "    .dataframe thead th {\n",
       "        text-align: right;\n",
       "    }\n",
       "</style>\n",
       "<table border=\"1\" class=\"dataframe\">\n",
       "  <thead>\n",
       "    <tr style=\"text-align: right;\">\n",
       "      <th></th>\n",
       "      <th>chart_name</th>\n",
       "      <th>reference_url</th>\n",
       "      <th>image_link</th>\n",
       "    </tr>\n",
       "  </thead>\n",
       "  <tbody>\n",
       "    <tr>\n",
       "      <th>0</th>\n",
       "      <td>Top 50: All music genres</td>\n",
       "      <td>/discover/sets/charts-top:all-music:us</td>\n",
       "      <td>https://i1.sndcdn.com/artworks-3MZHy2YEhMd3-0-...</td>\n",
       "    </tr>\n",
       "    <tr>\n",
       "      <th>1</th>\n",
       "      <td>Top 50: Hip-hop &amp; Rap</td>\n",
       "      <td>/discover/sets/charts-top:hiphoprap:us</td>\n",
       "      <td>https://i1.sndcdn.com/artworks-3MZHy2YEhMd3-0-...</td>\n",
       "    </tr>\n",
       "    <tr>\n",
       "      <th>2</th>\n",
       "      <td>Top 50: Pop</td>\n",
       "      <td>/discover/sets/charts-top:pop:us</td>\n",
       "      <td>https://i1.sndcdn.com/artworks-teTQbwTgfaES-0-...</td>\n",
       "    </tr>\n",
       "    <tr>\n",
       "      <th>3</th>\n",
       "      <td>Top 50: R&amp;B &amp; Soul</td>\n",
       "      <td>/discover/sets/charts-top:rbsoul:us</td>\n",
       "      <td>https://i1.sndcdn.com/artworks-9ixbhhfjgJ9wWsG...</td>\n",
       "    </tr>\n",
       "    <tr>\n",
       "      <th>4</th>\n",
       "      <td>Top 50: Global Beats</td>\n",
       "      <td>/discover/sets/charts-top:world:us</td>\n",
       "      <td>https://i1.sndcdn.com/artworks-000350395503-2d...</td>\n",
       "    </tr>\n",
       "  </tbody>\n",
       "</table>\n",
       "</div>"
      ],
      "text/plain": [
       "                 chart_name                           reference_url  \\\n",
       "0  Top 50: All music genres  /discover/sets/charts-top:all-music:us   \n",
       "1     Top 50: Hip-hop & Rap  /discover/sets/charts-top:hiphoprap:us   \n",
       "2               Top 50: Pop        /discover/sets/charts-top:pop:us   \n",
       "3        Top 50: R&B & Soul     /discover/sets/charts-top:rbsoul:us   \n",
       "4      Top 50: Global Beats      /discover/sets/charts-top:world:us   \n",
       "\n",
       "                                          image_link  \n",
       "0  https://i1.sndcdn.com/artworks-3MZHy2YEhMd3-0-...  \n",
       "1  https://i1.sndcdn.com/artworks-3MZHy2YEhMd3-0-...  \n",
       "2  https://i1.sndcdn.com/artworks-teTQbwTgfaES-0-...  \n",
       "3  https://i1.sndcdn.com/artworks-9ixbhhfjgJ9wWsG...  \n",
       "4  https://i1.sndcdn.com/artworks-000350395503-2d...  "
      ]
     },
     "execution_count": 94,
     "metadata": {},
     "output_type": "execute_result"
    }
   ],
   "source": [
    "#convert list of dictionaries to a dataframe\n",
    "soundcloud_df = pd.DataFrame(soundcloud_list)\n",
    "soundcloud_df"
   ]
  },
  {
   "cell_type": "markdown",
   "id": "8e185053",
   "metadata": {},
   "source": [
    "#### 2. Share with your group how web scraping worked on the website and link you chose. Compare it with others. List the site you chose and two observations about parsing the website. Indicate if this was the same or different for the sites chosen by others."
   ]
  },
  {
   "cell_type": "markdown",
   "id": "a0e4b8aa",
   "metadata": {},
   "source": [
    "We used the soundcloud.com website and pulled the first 5 charts from the 'Discover' page.\n",
    "One difficulty here was extracting information from the 'aria-label':\n",
    "- < span aria-label=\"Top 50: All music genres\" ...\n",
    "The syntax here was to call on aria-label as though it were an index inside of span:\n",
    "- div.find('span')['aria-label']\n",
    "There was no need to use .text in this case.\n",
    "\n",
    "Another difficulty was extracting a url embedded in a larger string:\n",
    "- 'background-image: url(\"https://i1.sndcdn.com/artworks-3MZHy2YEhMd3-0-t200x200.jpg\"); width: 100%; height: 100%; opacity: 0;'\n",
    "The only way to access this was with regex syntax:\n",
    "- re.search('http.*jpg', div.find('span')['style']).group(0)\n",
    "    \n",
    "Once we discovered these syntax secrets, we were able to pull all desired information from the web page."
   ]
  },
  {
   "cell_type": "code",
   "execution_count": null,
   "id": "52e013e2",
   "metadata": {},
   "outputs": [],
   "source": []
  }
 ],
 "metadata": {
  "kernelspec": {
   "display_name": "Python 3 (ipykernel)",
   "language": "python",
   "name": "python3"
  },
  "language_info": {
   "codemirror_mode": {
    "name": "ipython",
    "version": 3
   },
   "file_extension": ".py",
   "mimetype": "text/x-python",
   "name": "python",
   "nbconvert_exporter": "python",
   "pygments_lexer": "ipython3",
   "version": "3.9.7"
  }
 },
 "nbformat": 4,
 "nbformat_minor": 5
}
